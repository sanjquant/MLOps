{
  "nbformat": 4,
  "nbformat_minor": 0,
  "metadata": {
    "colab": {
      "name": "use_model_colab.ipynb",
      "provenance": [],
      "collapsed_sections": [],
      "toc_visible": true
    },
    "kernelspec": {
      "name": "python3",
      "display_name": "Python 3"
    },
    "language_info": {
      "name": "python"
    }
  },
  "cells": [
    {
      "cell_type": "code",
      "execution_count": 1,
      "metadata": {
        "colab": {
          "base_uri": "https://localhost:8080/"
        },
        "id": "d7XnZQBdjCRm",
        "outputId": "ec026a6e-cc07-436f-ee31-111a275692d0"
      },
      "outputs": [
        {
          "output_type": "stream",
          "name": "stdout",
          "text": [
            "sample_data\n"
          ]
        }
      ],
      "source": [
        "!ls"
      ]
    },
    {
      "cell_type": "code",
      "source": [
        "!wget https://github.com/sanjquant/TestLab/raw/main/pickle_files/classifier.pickle"
      ],
      "metadata": {
        "colab": {
          "base_uri": "https://localhost:8080/"
        },
        "id": "qnUSsIVWjYtj",
        "outputId": "cf66b1c0-d31c-4059-cba0-f42aa6f8e384"
      },
      "execution_count": 1,
      "outputs": [
        {
          "output_type": "stream",
          "name": "stdout",
          "text": [
            "--2022-06-03 23:16:55--  https://github.com/sanjquant/TestLab/raw/main/pickle_files/classifier.pickle\n",
            "Resolving github.com (github.com)... 140.82.113.4\n",
            "Connecting to github.com (github.com)|140.82.113.4|:443... connected.\n",
            "HTTP request sent, awaiting response... 302 Found\n",
            "Location: https://raw.githubusercontent.com/sanjquant/TestLab/main/pickle_files/classifier.pickle [following]\n",
            "--2022-06-03 23:16:55--  https://raw.githubusercontent.com/sanjquant/TestLab/main/pickle_files/classifier.pickle\n",
            "Resolving raw.githubusercontent.com (raw.githubusercontent.com)... 185.199.110.133, 185.199.108.133, 185.199.109.133, ...\n",
            "Connecting to raw.githubusercontent.com (raw.githubusercontent.com)|185.199.110.133|:443... connected.\n",
            "HTTP request sent, awaiting response... 200 OK\n",
            "Length: 2102 (2.1K) [application/octet-stream]\n",
            "Saving to: ‘classifier.pickle’\n",
            "\n",
            "\rclassifier.pickle     0%[                    ]       0  --.-KB/s               \rclassifier.pickle   100%[===================>]   2.05K  --.-KB/s    in 0s      \n",
            "\n",
            "2022-06-03 23:16:55 (38.0 MB/s) - ‘classifier.pickle’ saved [2102/2102]\n",
            "\n"
          ]
        }
      ]
    },
    {
      "cell_type": "markdown",
      "source": [
        "# New section"
      ],
      "metadata": {
        "id": "wY_ZE6U12wGc"
      }
    },
    {
      "cell_type": "code",
      "source": [
        "!ls"
      ],
      "metadata": {
        "colab": {
          "base_uri": "https://localhost:8080/"
        },
        "id": "N924Qj5YpOev",
        "outputId": "11aa6c17-fc86-4118-d8d2-007344efde7f"
      },
      "execution_count": 3,
      "outputs": [
        {
          "output_type": "stream",
          "name": "stdout",
          "text": [
            "classifier.pickle  sample_data\n"
          ]
        }
      ]
    },
    {
      "cell_type": "code",
      "source": [
        "!wget https://github.com/sanjquant/TestLab/raw/main/pickle_files/sc.pickle"
      ],
      "metadata": {
        "colab": {
          "base_uri": "https://localhost:8080/"
        },
        "id": "jtit2DRnpX3O",
        "outputId": "5a5d8068-ec8e-4629-a164-fec20de35229"
      },
      "execution_count": 2,
      "outputs": [
        {
          "output_type": "stream",
          "name": "stdout",
          "text": [
            "--2022-06-03 23:17:10--  https://github.com/sanjquant/TestLab/raw/main/pickle_files/sc.pickle\n",
            "Resolving github.com (github.com)... 140.82.113.4\n",
            "Connecting to github.com (github.com)|140.82.113.4|:443... connected.\n",
            "HTTP request sent, awaiting response... 302 Found\n",
            "Location: https://raw.githubusercontent.com/sanjquant/TestLab/main/pickle_files/sc.pickle [following]\n",
            "--2022-06-03 23:17:10--  https://raw.githubusercontent.com/sanjquant/TestLab/main/pickle_files/sc.pickle\n",
            "Resolving raw.githubusercontent.com (raw.githubusercontent.com)... 185.199.108.133, 185.199.109.133, 185.199.110.133, ...\n",
            "Connecting to raw.githubusercontent.com (raw.githubusercontent.com)|185.199.108.133|:443... connected.\n",
            "HTTP request sent, awaiting response... 200 OK\n",
            "Length: 497 [application/octet-stream]\n",
            "Saving to: ‘sc.pickle’\n",
            "\n",
            "\rsc.pickle             0%[                    ]       0  --.-KB/s               \rsc.pickle           100%[===================>]     497  --.-KB/s    in 0s      \n",
            "\n",
            "2022-06-03 23:17:10 (27.0 MB/s) - ‘sc.pickle’ saved [497/497]\n",
            "\n"
          ]
        }
      ]
    },
    {
      "cell_type": "code",
      "source": [
        ""
      ],
      "metadata": {
        "id": "hid6VnM9pX5w"
      },
      "execution_count": null,
      "outputs": []
    },
    {
      "cell_type": "code",
      "source": [
        "!ls"
      ],
      "metadata": {
        "colab": {
          "base_uri": "https://localhost:8080/"
        },
        "id": "NKbO7DQIpX_g",
        "outputId": "387eadfb-2e7b-4c7b-84d3-b4e30a86caef"
      },
      "execution_count": 5,
      "outputs": [
        {
          "output_type": "stream",
          "name": "stdout",
          "text": [
            "classifier.pickle  sample_data\tsc.pickle\n"
          ]
        }
      ]
    },
    {
      "cell_type": "code",
      "source": [
        ""
      ],
      "metadata": {
        "id": "5iHKlxGgqWMq"
      },
      "execution_count": null,
      "outputs": []
    },
    {
      "cell_type": "code",
      "source": [
        "\n",
        "import pickle\n",
        "import numpy as np"
      ],
      "metadata": {
        "id": "SBk9SnCYqWPp"
      },
      "execution_count": 3,
      "outputs": []
    },
    {
      "cell_type": "code",
      "source": [
        "\n",
        "local_classifier_colab = pickle.load(open('classifier.pickle', 'rb'))\n",
        "local_scaler_colab = pickle.load(open('sc.pickle', 'rb'))\n"
      ],
      "metadata": {
        "colab": {
          "base_uri": "https://localhost:8080/"
        },
        "id": "i07ZR_VTpYCc",
        "outputId": "815c2f37-e237-4afe-9b10-7f29cffd95ee"
      },
      "execution_count": 4,
      "outputs": [
        {
          "output_type": "stream",
          "name": "stderr",
          "text": [
            "/usr/local/lib/python3.7/dist-packages/sklearn/base.py:338: UserWarning: Trying to unpickle estimator KNeighborsClassifier from version 1.1.1 when using version 1.0.2. This might lead to breaking code or invalid results. Use at your own risk. For more info please refer to:\n",
            "https://scikit-learn.org/stable/modules/model_persistence.html#security-maintainability-limitations\n",
            "  UserWarning,\n",
            "/usr/local/lib/python3.7/dist-packages/sklearn/base.py:338: UserWarning: Trying to unpickle estimator StandardScaler from version 1.1.1 when using version 1.0.2. This might lead to breaking code or invalid results. Use at your own risk. For more info please refer to:\n",
            "https://scikit-learn.org/stable/modules/model_persistence.html#security-maintainability-limitations\n",
            "  UserWarning,\n"
          ]
        }
      ]
    },
    {
      "cell_type": "code",
      "source": [
        "new_predict = local_classifier_colab.predict(local_scaler_colab.transform(np.array([[40, 20000]])))"
      ],
      "metadata": {
        "id": "s5B3CmlFptD6"
      },
      "execution_count": 5,
      "outputs": []
    },
    {
      "cell_type": "code",
      "source": [
        "new_predict"
      ],
      "metadata": {
        "colab": {
          "base_uri": "https://localhost:8080/"
        },
        "id": "vNjf06UZq_ZB",
        "outputId": "27a104b4-e5d1-4db0-e40d-e876c26aa416"
      },
      "execution_count": 6,
      "outputs": [
        {
          "output_type": "execute_result",
          "data": {
            "text/plain": [
              "array([0])"
            ]
          },
          "metadata": {},
          "execution_count": 6
        }
      ]
    },
    {
      "cell_type": "code",
      "source": [
        "new_predict_proba = local_classifier_colab.predict_proba(local_scaler_colab.transform(np.array([[40, 20000]])))[:,1]"
      ],
      "metadata": {
        "id": "BzULNtyFptGo"
      },
      "execution_count": 25,
      "outputs": []
    },
    {
      "cell_type": "code",
      "source": [
        "new_predict_proba"
      ],
      "metadata": {
        "colab": {
          "base_uri": "https://localhost:8080/"
        },
        "id": "TBTY5WS2ptMN",
        "outputId": "f43a3927-61a5-4d8b-f55e-572da075ddce"
      },
      "execution_count": 26,
      "outputs": [
        {
          "output_type": "execute_result",
          "data": {
            "text/plain": [
              "array([0.4])"
            ]
          },
          "metadata": {},
          "execution_count": 26
        }
      ]
    },
    {
      "cell_type": "code",
      "source": [
        "new_predict_2 = local_classifier_colab.predict(local_scaler_colab.transform(np.array([[50, 40000]])))\n",
        "new_predict_proba_2 = local_classifier_colab.predict_proba(local_scaler_colab.transform(np.array([[50, 40000]])))[:,1]"
      ],
      "metadata": {
        "id": "afVOY5uvptPA"
      },
      "execution_count": 27,
      "outputs": []
    },
    {
      "cell_type": "code",
      "source": [
        "new_predict_2"
      ],
      "metadata": {
        "colab": {
          "base_uri": "https://localhost:8080/"
        },
        "id": "YUXP3c3ZptR8",
        "outputId": "0301d9cf-aa2a-433d-96a5-4842fcb7606f"
      },
      "execution_count": 28,
      "outputs": [
        {
          "output_type": "execute_result",
          "data": {
            "text/plain": [
              "array([1])"
            ]
          },
          "metadata": {},
          "execution_count": 28
        }
      ]
    },
    {
      "cell_type": "code",
      "source": [
        "new_predict_proba_2"
      ],
      "metadata": {
        "colab": {
          "base_uri": "https://localhost:8080/"
        },
        "id": "Vb4pvjJSrm7R",
        "outputId": "276987ab-7f21-4a25-bf36-cd6b80c37e59"
      },
      "execution_count": 29,
      "outputs": [
        {
          "output_type": "execute_result",
          "data": {
            "text/plain": [
              "array([1.])"
            ]
          },
          "metadata": {},
          "execution_count": 29
        }
      ]
    }
  ]
}